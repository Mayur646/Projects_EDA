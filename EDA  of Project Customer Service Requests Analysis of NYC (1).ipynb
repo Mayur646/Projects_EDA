{
 "cells": [
  {
   "cell_type": "code",
   "execution_count": 1,
   "id": "04801858",
   "metadata": {},
   "outputs": [],
   "source": [
    "import numpy as np\n",
    "import pandas as pd\n",
    "import matplotlib.pyplot as plt\n",
    "from matplotlib import style\n",
    "import seaborn as sns\n",
    "%matplotlib inline"
   ]
  },
  {
   "cell_type": "code",
   "execution_count": 2,
   "id": "33afe5bb",
   "metadata": {},
   "outputs": [
    {
     "name": "stderr",
     "output_type": "stream",
     "text": [
      "C:\\Users\\Human\\anaconda3\\lib\\site-packages\\IPython\\core\\interactiveshell.py:3165: DtypeWarning: Columns (48,49) have mixed types.Specify dtype option on import or set low_memory=False.\n",
      "  has_raised = await self.run_ast_nodes(code_ast.body, cell_name,\n"
     ]
    },
    {
     "data": {
      "text/html": [
       "<div>\n",
       "<style scoped>\n",
       "    .dataframe tbody tr th:only-of-type {\n",
       "        vertical-align: middle;\n",
       "    }\n",
       "\n",
       "    .dataframe tbody tr th {\n",
       "        vertical-align: top;\n",
       "    }\n",
       "\n",
       "    .dataframe thead th {\n",
       "        text-align: right;\n",
       "    }\n",
       "</style>\n",
       "<table border=\"1\" class=\"dataframe\">\n",
       "  <thead>\n",
       "    <tr style=\"text-align: right;\">\n",
       "      <th></th>\n",
       "      <th>Unique Key</th>\n",
       "      <th>Created Date</th>\n",
       "      <th>Closed Date</th>\n",
       "      <th>Agency</th>\n",
       "      <th>Agency Name</th>\n",
       "      <th>Complaint Type</th>\n",
       "      <th>Descriptor</th>\n",
       "      <th>Location Type</th>\n",
       "      <th>Incident Zip</th>\n",
       "      <th>Incident Address</th>\n",
       "      <th>...</th>\n",
       "      <th>Bridge Highway Name</th>\n",
       "      <th>Bridge Highway Direction</th>\n",
       "      <th>Road Ramp</th>\n",
       "      <th>Bridge Highway Segment</th>\n",
       "      <th>Garage Lot Name</th>\n",
       "      <th>Ferry Direction</th>\n",
       "      <th>Ferry Terminal Name</th>\n",
       "      <th>Latitude</th>\n",
       "      <th>Longitude</th>\n",
       "      <th>Location</th>\n",
       "    </tr>\n",
       "  </thead>\n",
       "  <tbody>\n",
       "    <tr>\n",
       "      <th>0</th>\n",
       "      <td>32310363</td>\n",
       "      <td>12/31/2015 11:59:45 PM</td>\n",
       "      <td>01-01-16 0:55</td>\n",
       "      <td>NYPD</td>\n",
       "      <td>New York City Police Department</td>\n",
       "      <td>Noise - Street/Sidewalk</td>\n",
       "      <td>Loud Music/Party</td>\n",
       "      <td>Street/Sidewalk</td>\n",
       "      <td>10034.0</td>\n",
       "      <td>71 VERMILYEA AVENUE</td>\n",
       "      <td>...</td>\n",
       "      <td>NaN</td>\n",
       "      <td>NaN</td>\n",
       "      <td>NaN</td>\n",
       "      <td>NaN</td>\n",
       "      <td>NaN</td>\n",
       "      <td>NaN</td>\n",
       "      <td>NaN</td>\n",
       "      <td>40.865682</td>\n",
       "      <td>-73.923501</td>\n",
       "      <td>(40.86568153633767, -73.92350095571744)</td>\n",
       "    </tr>\n",
       "    <tr>\n",
       "      <th>1</th>\n",
       "      <td>32309934</td>\n",
       "      <td>12/31/2015 11:59:44 PM</td>\n",
       "      <td>01-01-16 1:26</td>\n",
       "      <td>NYPD</td>\n",
       "      <td>New York City Police Department</td>\n",
       "      <td>Blocked Driveway</td>\n",
       "      <td>No Access</td>\n",
       "      <td>Street/Sidewalk</td>\n",
       "      <td>11105.0</td>\n",
       "      <td>27-07 23 AVENUE</td>\n",
       "      <td>...</td>\n",
       "      <td>NaN</td>\n",
       "      <td>NaN</td>\n",
       "      <td>NaN</td>\n",
       "      <td>NaN</td>\n",
       "      <td>NaN</td>\n",
       "      <td>NaN</td>\n",
       "      <td>NaN</td>\n",
       "      <td>40.775945</td>\n",
       "      <td>-73.915094</td>\n",
       "      <td>(40.775945312321085, -73.91509393898605)</td>\n",
       "    </tr>\n",
       "    <tr>\n",
       "      <th>2</th>\n",
       "      <td>32309159</td>\n",
       "      <td>12/31/2015 11:59:29 PM</td>\n",
       "      <td>01-01-16 4:51</td>\n",
       "      <td>NYPD</td>\n",
       "      <td>New York City Police Department</td>\n",
       "      <td>Blocked Driveway</td>\n",
       "      <td>No Access</td>\n",
       "      <td>Street/Sidewalk</td>\n",
       "      <td>10458.0</td>\n",
       "      <td>2897 VALENTINE AVENUE</td>\n",
       "      <td>...</td>\n",
       "      <td>NaN</td>\n",
       "      <td>NaN</td>\n",
       "      <td>NaN</td>\n",
       "      <td>NaN</td>\n",
       "      <td>NaN</td>\n",
       "      <td>NaN</td>\n",
       "      <td>NaN</td>\n",
       "      <td>40.870325</td>\n",
       "      <td>-73.888525</td>\n",
       "      <td>(40.870324522111424, -73.88852464418646)</td>\n",
       "    </tr>\n",
       "    <tr>\n",
       "      <th>3</th>\n",
       "      <td>32305098</td>\n",
       "      <td>12/31/2015 11:57:46 PM</td>\n",
       "      <td>01-01-16 7:43</td>\n",
       "      <td>NYPD</td>\n",
       "      <td>New York City Police Department</td>\n",
       "      <td>Illegal Parking</td>\n",
       "      <td>Commercial Overnight Parking</td>\n",
       "      <td>Street/Sidewalk</td>\n",
       "      <td>10461.0</td>\n",
       "      <td>2940 BAISLEY AVENUE</td>\n",
       "      <td>...</td>\n",
       "      <td>NaN</td>\n",
       "      <td>NaN</td>\n",
       "      <td>NaN</td>\n",
       "      <td>NaN</td>\n",
       "      <td>NaN</td>\n",
       "      <td>NaN</td>\n",
       "      <td>NaN</td>\n",
       "      <td>40.835994</td>\n",
       "      <td>-73.828379</td>\n",
       "      <td>(40.83599404683083, -73.82837939584206)</td>\n",
       "    </tr>\n",
       "    <tr>\n",
       "      <th>4</th>\n",
       "      <td>32306529</td>\n",
       "      <td>12/31/2015 11:56:58 PM</td>\n",
       "      <td>01-01-16 3:24</td>\n",
       "      <td>NYPD</td>\n",
       "      <td>New York City Police Department</td>\n",
       "      <td>Illegal Parking</td>\n",
       "      <td>Blocked Sidewalk</td>\n",
       "      <td>Street/Sidewalk</td>\n",
       "      <td>11373.0</td>\n",
       "      <td>87-14 57 ROAD</td>\n",
       "      <td>...</td>\n",
       "      <td>NaN</td>\n",
       "      <td>NaN</td>\n",
       "      <td>NaN</td>\n",
       "      <td>NaN</td>\n",
       "      <td>NaN</td>\n",
       "      <td>NaN</td>\n",
       "      <td>NaN</td>\n",
       "      <td>40.733060</td>\n",
       "      <td>-73.874170</td>\n",
       "      <td>(40.733059618956815, -73.87416975810375)</td>\n",
       "    </tr>\n",
       "    <tr>\n",
       "      <th>5</th>\n",
       "      <td>32306554</td>\n",
       "      <td>12/31/2015 11:56:30 PM</td>\n",
       "      <td>01-01-16 1:50</td>\n",
       "      <td>NYPD</td>\n",
       "      <td>New York City Police Department</td>\n",
       "      <td>Illegal Parking</td>\n",
       "      <td>Posted Parking Sign Violation</td>\n",
       "      <td>Street/Sidewalk</td>\n",
       "      <td>11215.0</td>\n",
       "      <td>260 21 STREET</td>\n",
       "      <td>...</td>\n",
       "      <td>NaN</td>\n",
       "      <td>NaN</td>\n",
       "      <td>NaN</td>\n",
       "      <td>NaN</td>\n",
       "      <td>NaN</td>\n",
       "      <td>NaN</td>\n",
       "      <td>NaN</td>\n",
       "      <td>40.660823</td>\n",
       "      <td>-73.992568</td>\n",
       "      <td>(40.66082272389114, -73.99256786342693)</td>\n",
       "    </tr>\n",
       "    <tr>\n",
       "      <th>6</th>\n",
       "      <td>32306559</td>\n",
       "      <td>12/31/2015 11:55:32 PM</td>\n",
       "      <td>01-01-16 1:53</td>\n",
       "      <td>NYPD</td>\n",
       "      <td>New York City Police Department</td>\n",
       "      <td>Illegal Parking</td>\n",
       "      <td>Blocked Hydrant</td>\n",
       "      <td>Street/Sidewalk</td>\n",
       "      <td>10032.0</td>\n",
       "      <td>524 WEST 169 STREET</td>\n",
       "      <td>...</td>\n",
       "      <td>NaN</td>\n",
       "      <td>NaN</td>\n",
       "      <td>NaN</td>\n",
       "      <td>NaN</td>\n",
       "      <td>NaN</td>\n",
       "      <td>NaN</td>\n",
       "      <td>NaN</td>\n",
       "      <td>40.840848</td>\n",
       "      <td>-73.937375</td>\n",
       "      <td>(40.840847591440415, -73.9373750864581)</td>\n",
       "    </tr>\n",
       "    <tr>\n",
       "      <th>7</th>\n",
       "      <td>32307009</td>\n",
       "      <td>12/31/2015 11:54:05 PM</td>\n",
       "      <td>01-01-16 1:42</td>\n",
       "      <td>NYPD</td>\n",
       "      <td>New York City Police Department</td>\n",
       "      <td>Blocked Driveway</td>\n",
       "      <td>No Access</td>\n",
       "      <td>Street/Sidewalk</td>\n",
       "      <td>10457.0</td>\n",
       "      <td>501 EAST 171 STREET</td>\n",
       "      <td>...</td>\n",
       "      <td>NaN</td>\n",
       "      <td>NaN</td>\n",
       "      <td>NaN</td>\n",
       "      <td>NaN</td>\n",
       "      <td>NaN</td>\n",
       "      <td>NaN</td>\n",
       "      <td>NaN</td>\n",
       "      <td>40.837503</td>\n",
       "      <td>-73.902905</td>\n",
       "      <td>(40.83750262540012, -73.90290517326568)</td>\n",
       "    </tr>\n",
       "    <tr>\n",
       "      <th>8</th>\n",
       "      <td>32308581</td>\n",
       "      <td>12/31/2015 11:53:58 PM</td>\n",
       "      <td>01-01-16 8:27</td>\n",
       "      <td>NYPD</td>\n",
       "      <td>New York City Police Department</td>\n",
       "      <td>Illegal Parking</td>\n",
       "      <td>Posted Parking Sign Violation</td>\n",
       "      <td>Street/Sidewalk</td>\n",
       "      <td>11415.0</td>\n",
       "      <td>83-44 LEFFERTS BOULEVARD</td>\n",
       "      <td>...</td>\n",
       "      <td>NaN</td>\n",
       "      <td>NaN</td>\n",
       "      <td>NaN</td>\n",
       "      <td>NaN</td>\n",
       "      <td>NaN</td>\n",
       "      <td>NaN</td>\n",
       "      <td>NaN</td>\n",
       "      <td>40.704977</td>\n",
       "      <td>-73.832605</td>\n",
       "      <td>(40.704977164399935, -73.8326047502584)</td>\n",
       "    </tr>\n",
       "    <tr>\n",
       "      <th>9</th>\n",
       "      <td>32308391</td>\n",
       "      <td>12/31/2015 11:53:58 PM</td>\n",
       "      <td>01-01-16 1:17</td>\n",
       "      <td>NYPD</td>\n",
       "      <td>New York City Police Department</td>\n",
       "      <td>Blocked Driveway</td>\n",
       "      <td>No Access</td>\n",
       "      <td>Street/Sidewalk</td>\n",
       "      <td>11219.0</td>\n",
       "      <td>1408 66 STREET</td>\n",
       "      <td>...</td>\n",
       "      <td>NaN</td>\n",
       "      <td>NaN</td>\n",
       "      <td>NaN</td>\n",
       "      <td>NaN</td>\n",
       "      <td>NaN</td>\n",
       "      <td>NaN</td>\n",
       "      <td>NaN</td>\n",
       "      <td>40.623793</td>\n",
       "      <td>-73.999539</td>\n",
       "      <td>(40.623793065806524, -73.99953890121567)</td>\n",
       "    </tr>\n",
       "  </tbody>\n",
       "</table>\n",
       "<p>10 rows × 53 columns</p>\n",
       "</div>"
      ],
      "text/plain": [
       "   Unique Key            Created Date    Closed Date Agency  \\\n",
       "0    32310363  12/31/2015 11:59:45 PM  01-01-16 0:55   NYPD   \n",
       "1    32309934  12/31/2015 11:59:44 PM  01-01-16 1:26   NYPD   \n",
       "2    32309159  12/31/2015 11:59:29 PM  01-01-16 4:51   NYPD   \n",
       "3    32305098  12/31/2015 11:57:46 PM  01-01-16 7:43   NYPD   \n",
       "4    32306529  12/31/2015 11:56:58 PM  01-01-16 3:24   NYPD   \n",
       "5    32306554  12/31/2015 11:56:30 PM  01-01-16 1:50   NYPD   \n",
       "6    32306559  12/31/2015 11:55:32 PM  01-01-16 1:53   NYPD   \n",
       "7    32307009  12/31/2015 11:54:05 PM  01-01-16 1:42   NYPD   \n",
       "8    32308581  12/31/2015 11:53:58 PM  01-01-16 8:27   NYPD   \n",
       "9    32308391  12/31/2015 11:53:58 PM  01-01-16 1:17   NYPD   \n",
       "\n",
       "                       Agency Name           Complaint Type  \\\n",
       "0  New York City Police Department  Noise - Street/Sidewalk   \n",
       "1  New York City Police Department         Blocked Driveway   \n",
       "2  New York City Police Department         Blocked Driveway   \n",
       "3  New York City Police Department          Illegal Parking   \n",
       "4  New York City Police Department          Illegal Parking   \n",
       "5  New York City Police Department          Illegal Parking   \n",
       "6  New York City Police Department          Illegal Parking   \n",
       "7  New York City Police Department         Blocked Driveway   \n",
       "8  New York City Police Department          Illegal Parking   \n",
       "9  New York City Police Department         Blocked Driveway   \n",
       "\n",
       "                      Descriptor    Location Type  Incident Zip  \\\n",
       "0               Loud Music/Party  Street/Sidewalk       10034.0   \n",
       "1                      No Access  Street/Sidewalk       11105.0   \n",
       "2                      No Access  Street/Sidewalk       10458.0   \n",
       "3   Commercial Overnight Parking  Street/Sidewalk       10461.0   \n",
       "4               Blocked Sidewalk  Street/Sidewalk       11373.0   \n",
       "5  Posted Parking Sign Violation  Street/Sidewalk       11215.0   \n",
       "6                Blocked Hydrant  Street/Sidewalk       10032.0   \n",
       "7                      No Access  Street/Sidewalk       10457.0   \n",
       "8  Posted Parking Sign Violation  Street/Sidewalk       11415.0   \n",
       "9                      No Access  Street/Sidewalk       11219.0   \n",
       "\n",
       "           Incident Address  ... Bridge Highway Name Bridge Highway Direction  \\\n",
       "0       71 VERMILYEA AVENUE  ...                 NaN                      NaN   \n",
       "1           27-07 23 AVENUE  ...                 NaN                      NaN   \n",
       "2     2897 VALENTINE AVENUE  ...                 NaN                      NaN   \n",
       "3       2940 BAISLEY AVENUE  ...                 NaN                      NaN   \n",
       "4             87-14 57 ROAD  ...                 NaN                      NaN   \n",
       "5             260 21 STREET  ...                 NaN                      NaN   \n",
       "6       524 WEST 169 STREET  ...                 NaN                      NaN   \n",
       "7       501 EAST 171 STREET  ...                 NaN                      NaN   \n",
       "8  83-44 LEFFERTS BOULEVARD  ...                 NaN                      NaN   \n",
       "9            1408 66 STREET  ...                 NaN                      NaN   \n",
       "\n",
       "  Road Ramp Bridge Highway Segment Garage Lot Name Ferry Direction  \\\n",
       "0       NaN                    NaN             NaN             NaN   \n",
       "1       NaN                    NaN             NaN             NaN   \n",
       "2       NaN                    NaN             NaN             NaN   \n",
       "3       NaN                    NaN             NaN             NaN   \n",
       "4       NaN                    NaN             NaN             NaN   \n",
       "5       NaN                    NaN             NaN             NaN   \n",
       "6       NaN                    NaN             NaN             NaN   \n",
       "7       NaN                    NaN             NaN             NaN   \n",
       "8       NaN                    NaN             NaN             NaN   \n",
       "9       NaN                    NaN             NaN             NaN   \n",
       "\n",
       "  Ferry Terminal Name   Latitude  Longitude  \\\n",
       "0                 NaN  40.865682 -73.923501   \n",
       "1                 NaN  40.775945 -73.915094   \n",
       "2                 NaN  40.870325 -73.888525   \n",
       "3                 NaN  40.835994 -73.828379   \n",
       "4                 NaN  40.733060 -73.874170   \n",
       "5                 NaN  40.660823 -73.992568   \n",
       "6                 NaN  40.840848 -73.937375   \n",
       "7                 NaN  40.837503 -73.902905   \n",
       "8                 NaN  40.704977 -73.832605   \n",
       "9                 NaN  40.623793 -73.999539   \n",
       "\n",
       "                                   Location  \n",
       "0   (40.86568153633767, -73.92350095571744)  \n",
       "1  (40.775945312321085, -73.91509393898605)  \n",
       "2  (40.870324522111424, -73.88852464418646)  \n",
       "3   (40.83599404683083, -73.82837939584206)  \n",
       "4  (40.733059618956815, -73.87416975810375)  \n",
       "5   (40.66082272389114, -73.99256786342693)  \n",
       "6   (40.840847591440415, -73.9373750864581)  \n",
       "7   (40.83750262540012, -73.90290517326568)  \n",
       "8   (40.704977164399935, -73.8326047502584)  \n",
       "9  (40.623793065806524, -73.99953890121567)  \n",
       "\n",
       "[10 rows x 53 columns]"
      ]
     },
     "execution_count": 2,
     "metadata": {},
     "output_type": "execute_result"
    }
   ],
   "source": [
    "df = pd.read_csv (r\"C:\\Users\\Human\\Downloads\\311_Service_Requests_from_2010_to_Present.csv\")\n",
    "df.head(10)"
   ]
  },
  {
   "cell_type": "code",
   "execution_count": 3,
   "id": "74aba636",
   "metadata": {},
   "outputs": [
    {
     "name": "stdout",
     "output_type": "stream",
     "text": [
      "<class 'pandas.core.frame.DataFrame'>\n",
      "RangeIndex: 300698 entries, 0 to 300697\n",
      "Data columns (total 53 columns):\n",
      " #   Column                          Non-Null Count   Dtype  \n",
      "---  ------                          --------------   -----  \n",
      " 0   Unique Key                      300698 non-null  int64  \n",
      " 1   Created Date                    300698 non-null  object \n",
      " 2   Closed Date                     298534 non-null  object \n",
      " 3   Agency                          300698 non-null  object \n",
      " 4   Agency Name                     300698 non-null  object \n",
      " 5   Complaint Type                  300698 non-null  object \n",
      " 6   Descriptor                      294784 non-null  object \n",
      " 7   Location Type                   300567 non-null  object \n",
      " 8   Incident Zip                    298083 non-null  float64\n",
      " 9   Incident Address                256288 non-null  object \n",
      " 10  Street Name                     256288 non-null  object \n",
      " 11  Cross Street 1                  251419 non-null  object \n",
      " 12  Cross Street 2                  250919 non-null  object \n",
      " 13  Intersection Street 1           43858 non-null   object \n",
      " 14  Intersection Street 2           43362 non-null   object \n",
      " 15  Address Type                    297883 non-null  object \n",
      " 16  City                            298084 non-null  object \n",
      " 17  Landmark                        349 non-null     object \n",
      " 18  Facility Type                   298527 non-null  object \n",
      " 19  Status                          300698 non-null  object \n",
      " 20  Due Date                        300695 non-null  object \n",
      " 21  Resolution Description          300698 non-null  object \n",
      " 22  Resolution Action Updated Date  298511 non-null  object \n",
      " 23  Community Board                 300698 non-null  object \n",
      " 24  Borough                         300698 non-null  object \n",
      " 25  X Coordinate (State Plane)      297158 non-null  float64\n",
      " 26  Y Coordinate (State Plane)      297158 non-null  float64\n",
      " 27  Park Facility Name              300698 non-null  object \n",
      " 28  Park Borough                    300698 non-null  object \n",
      " 29  School Name                     300698 non-null  object \n",
      " 30  School Number                   300698 non-null  object \n",
      " 31  School Region                   300697 non-null  object \n",
      " 32  School Code                     300697 non-null  object \n",
      " 33  School Phone Number             300698 non-null  object \n",
      " 34  School Address                  300698 non-null  object \n",
      " 35  School City                     300698 non-null  object \n",
      " 36  School State                    300698 non-null  object \n",
      " 37  School Zip                      300697 non-null  object \n",
      " 38  School Not Found                300698 non-null  object \n",
      " 39  School or Citywide Complaint    0 non-null       float64\n",
      " 40  Vehicle Type                    0 non-null       float64\n",
      " 41  Taxi Company Borough            0 non-null       float64\n",
      " 42  Taxi Pick Up Location           0 non-null       float64\n",
      " 43  Bridge Highway Name             243 non-null     object \n",
      " 44  Bridge Highway Direction        243 non-null     object \n",
      " 45  Road Ramp                       213 non-null     object \n",
      " 46  Bridge Highway Segment          213 non-null     object \n",
      " 47  Garage Lot Name                 0 non-null       float64\n",
      " 48  Ferry Direction                 1 non-null       object \n",
      " 49  Ferry Terminal Name             2 non-null       object \n",
      " 50  Latitude                        297158 non-null  float64\n",
      " 51  Longitude                       297158 non-null  float64\n",
      " 52  Location                        297158 non-null  object \n",
      "dtypes: float64(10), int64(1), object(42)\n",
      "memory usage: 121.6+ MB\n"
     ]
    }
   ],
   "source": [
    "df.info()"
   ]
  },
  {
   "cell_type": "code",
   "execution_count": 4,
   "id": "f3efac43",
   "metadata": {},
   "outputs": [
    {
     "data": {
      "text/plain": [
       "Unique Key                        300698\n",
       "Created Date                      300698\n",
       "Closed Date                       298534\n",
       "Agency                            300698\n",
       "Agency Name                       300698\n",
       "Complaint Type                    300698\n",
       "Descriptor                        294784\n",
       "Location Type                     300567\n",
       "Incident Zip                      298083\n",
       "Incident Address                  256288\n",
       "Street Name                       256288\n",
       "Cross Street 1                    251419\n",
       "Cross Street 2                    250919\n",
       "Intersection Street 1              43858\n",
       "Intersection Street 2              43362\n",
       "Address Type                      297883\n",
       "City                              298084\n",
       "Landmark                             349\n",
       "Facility Type                     298527\n",
       "Status                            300698\n",
       "Due Date                          300695\n",
       "Resolution Description            300698\n",
       "Resolution Action Updated Date    298511\n",
       "Community Board                   300698\n",
       "Borough                           300698\n",
       "X Coordinate (State Plane)        297158\n",
       "Y Coordinate (State Plane)        297158\n",
       "Park Facility Name                300698\n",
       "Park Borough                      300698\n",
       "School Name                       300698\n",
       "School Number                     300698\n",
       "School Region                     300697\n",
       "School Code                       300697\n",
       "School Phone Number               300698\n",
       "School Address                    300698\n",
       "School City                       300698\n",
       "School State                      300698\n",
       "School Zip                        300697\n",
       "School Not Found                  300698\n",
       "School or Citywide Complaint           0\n",
       "Vehicle Type                           0\n",
       "Taxi Company Borough                   0\n",
       "Taxi Pick Up Location                  0\n",
       "Bridge Highway Name                  243\n",
       "Bridge Highway Direction             243\n",
       "Road Ramp                            213\n",
       "Bridge Highway Segment               213\n",
       "Garage Lot Name                        0\n",
       "Ferry Direction                        1\n",
       "Ferry Terminal Name                    2\n",
       "Latitude                          297158\n",
       "Longitude                         297158\n",
       "Location                          297158\n",
       "dtype: int64"
      ]
     },
     "execution_count": 4,
     "metadata": {},
     "output_type": "execute_result"
    }
   ],
   "source": [
    "df.count()"
   ]
  },
  {
   "cell_type": "code",
   "execution_count": 5,
   "id": "0f30d92d",
   "metadata": {},
   "outputs": [
    {
     "data": {
      "text/plain": [
       "Unique Key                        300698\n",
       "Created Date                      259493\n",
       "Closed Date                       237165\n",
       "Agency                                 1\n",
       "Agency Name                            3\n",
       "Complaint Type                        24\n",
       "Descriptor                            45\n",
       "Location Type                         18\n",
       "Incident Zip                         201\n",
       "Incident Address                  107652\n",
       "Street Name                         7320\n",
       "Cross Street 1                      5982\n",
       "Cross Street 2                      5823\n",
       "Intersection Street 1               4413\n",
       "Intersection Street 2               4172\n",
       "Address Type                           5\n",
       "City                                  53\n",
       "Landmark                             116\n",
       "Facility Type                          1\n",
       "Status                                 4\n",
       "Due Date                          259851\n",
       "Resolution Description                18\n",
       "Resolution Action Updated Date    237895\n",
       "Community Board                       75\n",
       "Borough                                6\n",
       "X Coordinate (State Plane)         63226\n",
       "Y Coordinate (State Plane)         73694\n",
       "Park Facility Name                     2\n",
       "Park Borough                           6\n",
       "School Name                            2\n",
       "School Number                          2\n",
       "School Region                          1\n",
       "School Code                            1\n",
       "School Phone Number                    2\n",
       "School Address                         2\n",
       "School City                            2\n",
       "School State                           2\n",
       "School Zip                             1\n",
       "School Not Found                       1\n",
       "School or Citywide Complaint           0\n",
       "Vehicle Type                           0\n",
       "Taxi Company Borough                   0\n",
       "Taxi Pick Up Location                  0\n",
       "Bridge Highway Name                   29\n",
       "Bridge Highway Direction              34\n",
       "Road Ramp                              2\n",
       "Bridge Highway Segment               160\n",
       "Garage Lot Name                        0\n",
       "Ferry Direction                        1\n",
       "Ferry Terminal Name                    2\n",
       "Latitude                          125122\n",
       "Longitude                         125216\n",
       "Location                          126048\n",
       "dtype: int64"
      ]
     },
     "execution_count": 5,
     "metadata": {},
     "output_type": "execute_result"
    }
   ],
   "source": [
    "df.nunique()"
   ]
  },
  {
   "cell_type": "code",
   "execution_count": 6,
   "id": "da224628",
   "metadata": {},
   "outputs": [],
   "source": [
    "del df['Bridge Highway Name']\n",
    "del df[\"Bridge Highway Direction\"]\n",
    "del df[\"Road Ramp\"]\n",
    "del df[\"Bridge Highway Segment\"]\n",
    "del df[\"Garage Lot Name\"]\n",
    "del df[\"Ferry Direction\"]\n",
    "del df[\"Ferry Terminal Name\"]\n",
    "del df[\"School State\"]\n",
    "del df[\"School Zip\"]\n",
    "del df[\"School or Citywide Complaint\"]\n",
    "del df[\"Vehicle Type\"]\n",
    "del df[\"Taxi Company Borough\"]\n",
    "del df[\"Taxi Pick Up Location\"]"
   ]
  },
  {
   "cell_type": "code",
   "execution_count": 7,
   "id": "81cb1b32",
   "metadata": {},
   "outputs": [
    {
     "data": {
      "text/plain": [
       "Borough      Complaint Type         Descriptor               \n",
       "BRONX        Animal Abuse           Chained                      132\n",
       "                                    In Car                        36\n",
       "                                    Neglected                    673\n",
       "                                    No Shelter                    71\n",
       "                                    Other (complaint details)    311\n",
       "                                                                ... \n",
       "Unspecified  Noise - Vehicle        Engine Idling                 11\n",
       "             Posting Advertisement  Vehicle                        1\n",
       "             Traffic                Truck Route Violation          1\n",
       "             Vending                In Prohibited Area             2\n",
       "                                    Unlicensed                     5\n",
       "Length: 288, dtype: int64"
      ]
     },
     "execution_count": 7,
     "metadata": {},
     "output_type": "execute_result"
    }
   ],
   "source": [
    "df.groupby(['Borough','Complaint Type','Descriptor']).size()"
   ]
  },
  {
   "cell_type": "code",
   "execution_count": 12,
   "id": "3691f468",
   "metadata": {},
   "outputs": [
    {
     "data": {
      "text/plain": [
       "Blocked Driveway             77044\n",
       "Illegal Parking              75361\n",
       "Noise - Street/Sidewalk      48612\n",
       "Noise - Commercial           35577\n",
       "Derelict Vehicle             17718\n",
       "Noise - Vehicle              17083\n",
       "Animal Abuse                  7778\n",
       "Traffic                       4498\n",
       "Homeless Encampment           4416\n",
       "Noise - Park                  4042\n",
       "Vending                       3802\n",
       "Drinking                      1280\n",
       "Noise - House of Worship       931\n",
       "Posting Advertisement          650\n",
       "Urinating in Public            592\n",
       "Bike/Roller/Skate Chronic      427\n",
       "Panhandling                    307\n",
       "Disorderly Youth               286\n",
       "Illegal Fireworks              168\n",
       "Graffiti                       113\n",
       "Agency Issues                    6\n",
       "Squeegee                         4\n",
       "Ferry Complaint                  2\n",
       "Animal in a Park                 1\n",
       "Name: Complaint Type, dtype: int64"
      ]
     },
     "execution_count": 12,
     "metadata": {},
     "output_type": "execute_result"
    }
   ],
   "source": [
    "df['Complaint Type'].value_counts()"
   ]
  },
  {
   "cell_type": "code",
   "execution_count": 41,
   "id": "479e3d45",
   "metadata": {},
   "outputs": [
    {
     "name": "stderr",
     "output_type": "stream",
     "text": [
      "C:\\Users\\Human\\anaconda3\\lib\\site-packages\\IPython\\core\\interactiveshell.py:3165: DtypeWarning: Columns (48,49) have mixed types.Specify dtype option on import or set low_memory=False.\n",
      "  has_raised = await self.run_ast_nodes(code_ast.body, cell_name,\n"
     ]
    },
    {
     "data": {
      "text/html": [
       "<div>\n",
       "<style scoped>\n",
       "    .dataframe tbody tr th:only-of-type {\n",
       "        vertical-align: middle;\n",
       "    }\n",
       "\n",
       "    .dataframe tbody tr th {\n",
       "        vertical-align: top;\n",
       "    }\n",
       "\n",
       "    .dataframe thead th {\n",
       "        text-align: right;\n",
       "    }\n",
       "</style>\n",
       "<table border=\"1\" class=\"dataframe\">\n",
       "  <thead>\n",
       "    <tr style=\"text-align: right;\">\n",
       "      <th></th>\n",
       "      <th>Unique Key</th>\n",
       "      <th>Created Date</th>\n",
       "      <th>Closed Date</th>\n",
       "      <th>Agency</th>\n",
       "      <th>Agency Name</th>\n",
       "      <th>Complaint Type</th>\n",
       "      <th>Descriptor</th>\n",
       "      <th>Location Type</th>\n",
       "      <th>Incident Zip</th>\n",
       "      <th>Incident Address</th>\n",
       "      <th>...</th>\n",
       "      <th>Bridge Highway Direction</th>\n",
       "      <th>Road Ramp</th>\n",
       "      <th>Bridge Highway Segment</th>\n",
       "      <th>Garage Lot Name</th>\n",
       "      <th>Ferry Direction</th>\n",
       "      <th>Ferry Terminal Name</th>\n",
       "      <th>Latitude</th>\n",
       "      <th>Longitude</th>\n",
       "      <th>Location</th>\n",
       "      <th>Request_Closing_Time</th>\n",
       "    </tr>\n",
       "  </thead>\n",
       "  <tbody>\n",
       "    <tr>\n",
       "      <th>0</th>\n",
       "      <td>32310363</td>\n",
       "      <td>2015-12-31 23:59:45</td>\n",
       "      <td>2016-01-01 00:55:00</td>\n",
       "      <td>NYPD</td>\n",
       "      <td>New York City Police Department</td>\n",
       "      <td>Noise - Street/Sidewalk</td>\n",
       "      <td>Loud Music/Party</td>\n",
       "      <td>Street/Sidewalk</td>\n",
       "      <td>10034.0</td>\n",
       "      <td>71 VERMILYEA AVENUE</td>\n",
       "      <td>...</td>\n",
       "      <td>NaN</td>\n",
       "      <td>NaN</td>\n",
       "      <td>NaN</td>\n",
       "      <td>NaN</td>\n",
       "      <td>NaN</td>\n",
       "      <td>NaN</td>\n",
       "      <td>40.865682</td>\n",
       "      <td>-73.923501</td>\n",
       "      <td>(40.86568153633767, -73.92350095571744)</td>\n",
       "      <td>0 days 00:55:15</td>\n",
       "    </tr>\n",
       "    <tr>\n",
       "      <th>1</th>\n",
       "      <td>32309934</td>\n",
       "      <td>2015-12-31 23:59:44</td>\n",
       "      <td>2016-01-01 01:26:00</td>\n",
       "      <td>NYPD</td>\n",
       "      <td>New York City Police Department</td>\n",
       "      <td>Blocked Driveway</td>\n",
       "      <td>No Access</td>\n",
       "      <td>Street/Sidewalk</td>\n",
       "      <td>11105.0</td>\n",
       "      <td>27-07 23 AVENUE</td>\n",
       "      <td>...</td>\n",
       "      <td>NaN</td>\n",
       "      <td>NaN</td>\n",
       "      <td>NaN</td>\n",
       "      <td>NaN</td>\n",
       "      <td>NaN</td>\n",
       "      <td>NaN</td>\n",
       "      <td>40.775945</td>\n",
       "      <td>-73.915094</td>\n",
       "      <td>(40.775945312321085, -73.91509393898605)</td>\n",
       "      <td>0 days 01:26:16</td>\n",
       "    </tr>\n",
       "    <tr>\n",
       "      <th>2</th>\n",
       "      <td>32309159</td>\n",
       "      <td>2015-12-31 23:59:29</td>\n",
       "      <td>2016-01-01 04:51:00</td>\n",
       "      <td>NYPD</td>\n",
       "      <td>New York City Police Department</td>\n",
       "      <td>Blocked Driveway</td>\n",
       "      <td>No Access</td>\n",
       "      <td>Street/Sidewalk</td>\n",
       "      <td>10458.0</td>\n",
       "      <td>2897 VALENTINE AVENUE</td>\n",
       "      <td>...</td>\n",
       "      <td>NaN</td>\n",
       "      <td>NaN</td>\n",
       "      <td>NaN</td>\n",
       "      <td>NaN</td>\n",
       "      <td>NaN</td>\n",
       "      <td>NaN</td>\n",
       "      <td>40.870325</td>\n",
       "      <td>-73.888525</td>\n",
       "      <td>(40.870324522111424, -73.88852464418646)</td>\n",
       "      <td>0 days 04:51:31</td>\n",
       "    </tr>\n",
       "    <tr>\n",
       "      <th>3</th>\n",
       "      <td>32305098</td>\n",
       "      <td>2015-12-31 23:57:46</td>\n",
       "      <td>2016-01-01 07:43:00</td>\n",
       "      <td>NYPD</td>\n",
       "      <td>New York City Police Department</td>\n",
       "      <td>Illegal Parking</td>\n",
       "      <td>Commercial Overnight Parking</td>\n",
       "      <td>Street/Sidewalk</td>\n",
       "      <td>10461.0</td>\n",
       "      <td>2940 BAISLEY AVENUE</td>\n",
       "      <td>...</td>\n",
       "      <td>NaN</td>\n",
       "      <td>NaN</td>\n",
       "      <td>NaN</td>\n",
       "      <td>NaN</td>\n",
       "      <td>NaN</td>\n",
       "      <td>NaN</td>\n",
       "      <td>40.835994</td>\n",
       "      <td>-73.828379</td>\n",
       "      <td>(40.83599404683083, -73.82837939584206)</td>\n",
       "      <td>0 days 07:45:14</td>\n",
       "    </tr>\n",
       "    <tr>\n",
       "      <th>4</th>\n",
       "      <td>32306529</td>\n",
       "      <td>2015-12-31 23:56:58</td>\n",
       "      <td>2016-01-01 03:24:00</td>\n",
       "      <td>NYPD</td>\n",
       "      <td>New York City Police Department</td>\n",
       "      <td>Illegal Parking</td>\n",
       "      <td>Blocked Sidewalk</td>\n",
       "      <td>Street/Sidewalk</td>\n",
       "      <td>11373.0</td>\n",
       "      <td>87-14 57 ROAD</td>\n",
       "      <td>...</td>\n",
       "      <td>NaN</td>\n",
       "      <td>NaN</td>\n",
       "      <td>NaN</td>\n",
       "      <td>NaN</td>\n",
       "      <td>NaN</td>\n",
       "      <td>NaN</td>\n",
       "      <td>40.733060</td>\n",
       "      <td>-73.874170</td>\n",
       "      <td>(40.733059618956815, -73.87416975810375)</td>\n",
       "      <td>0 days 03:27:02</td>\n",
       "    </tr>\n",
       "  </tbody>\n",
       "</table>\n",
       "<p>5 rows × 54 columns</p>\n",
       "</div>"
      ],
      "text/plain": [
       "   Unique Key        Created Date         Closed Date Agency  \\\n",
       "0    32310363 2015-12-31 23:59:45 2016-01-01 00:55:00   NYPD   \n",
       "1    32309934 2015-12-31 23:59:44 2016-01-01 01:26:00   NYPD   \n",
       "2    32309159 2015-12-31 23:59:29 2016-01-01 04:51:00   NYPD   \n",
       "3    32305098 2015-12-31 23:57:46 2016-01-01 07:43:00   NYPD   \n",
       "4    32306529 2015-12-31 23:56:58 2016-01-01 03:24:00   NYPD   \n",
       "\n",
       "                       Agency Name           Complaint Type  \\\n",
       "0  New York City Police Department  Noise - Street/Sidewalk   \n",
       "1  New York City Police Department         Blocked Driveway   \n",
       "2  New York City Police Department         Blocked Driveway   \n",
       "3  New York City Police Department          Illegal Parking   \n",
       "4  New York City Police Department          Illegal Parking   \n",
       "\n",
       "                     Descriptor    Location Type  Incident Zip  \\\n",
       "0              Loud Music/Party  Street/Sidewalk       10034.0   \n",
       "1                     No Access  Street/Sidewalk       11105.0   \n",
       "2                     No Access  Street/Sidewalk       10458.0   \n",
       "3  Commercial Overnight Parking  Street/Sidewalk       10461.0   \n",
       "4              Blocked Sidewalk  Street/Sidewalk       11373.0   \n",
       "\n",
       "        Incident Address  ... Bridge Highway Direction Road Ramp  \\\n",
       "0    71 VERMILYEA AVENUE  ...                      NaN       NaN   \n",
       "1        27-07 23 AVENUE  ...                      NaN       NaN   \n",
       "2  2897 VALENTINE AVENUE  ...                      NaN       NaN   \n",
       "3    2940 BAISLEY AVENUE  ...                      NaN       NaN   \n",
       "4          87-14 57 ROAD  ...                      NaN       NaN   \n",
       "\n",
       "  Bridge Highway Segment Garage Lot Name Ferry Direction Ferry Terminal Name  \\\n",
       "0                    NaN             NaN             NaN                 NaN   \n",
       "1                    NaN             NaN             NaN                 NaN   \n",
       "2                    NaN             NaN             NaN                 NaN   \n",
       "3                    NaN             NaN             NaN                 NaN   \n",
       "4                    NaN             NaN             NaN                 NaN   \n",
       "\n",
       "    Latitude  Longitude                                  Location  \\\n",
       "0  40.865682 -73.923501   (40.86568153633767, -73.92350095571744)   \n",
       "1  40.775945 -73.915094  (40.775945312321085, -73.91509393898605)   \n",
       "2  40.870325 -73.888525  (40.870324522111424, -73.88852464418646)   \n",
       "3  40.835994 -73.828379   (40.83599404683083, -73.82837939584206)   \n",
       "4  40.733060 -73.874170  (40.733059618956815, -73.87416975810375)   \n",
       "\n",
       "  Request_Closing_Time  \n",
       "0      0 days 00:55:15  \n",
       "1      0 days 01:26:16  \n",
       "2      0 days 04:51:31  \n",
       "3      0 days 07:45:14  \n",
       "4      0 days 03:27:02  \n",
       "\n",
       "[5 rows x 54 columns]"
      ]
     },
     "execution_count": 41,
     "metadata": {},
     "output_type": "execute_result"
    }
   ],
   "source": [
    "import datetime\n",
    "df = pd.read_csv(r\"C:\\Users\\Human\\Downloads\\311_Service_Requests_from_2010_to_Present.csv\", parse_dates=[\"Created Date\", \"Closed Date\"])\n",
    "df[\"Request_Closing_Time\"] = df[\"Closed Date\"] - df[\"Created Date\"]\n",
    "df.head()"
   ]
  },
  {
   "cell_type": "markdown",
   "id": "6296a95c",
   "metadata": {},
   "source": [
    "### Have a look at the status of tickets\n"
   ]
  },
  {
   "cell_type": "code",
   "execution_count": 40,
   "id": "65d43c3f",
   "metadata": {},
   "outputs": [
    {
     "data": {
      "image/png": "[encoded data removed]",
      "text/plain": [
       "<Figure size 504x504 with 1 Axes>"
      ]
     },
     "metadata": {
      "needs_background": "light"
     },
     "output_type": "display_data"
    }
   ],
   "source": [
    "\n",
    "df['Status'].value_counts().plot(kind='bar',alpha=0.6,figsize=(7,7))\n",
    "plt.show()"
   ]
  },
  {
   "cell_type": "code",
   "execution_count": 15,
   "id": "44f8e847",
   "metadata": {},
   "outputs": [
    {
     "data": {
      "text/plain": [
       "<AxesSubplot:title={'center':'Most common Complaints'}>"
      ]
     },
     "execution_count": 15,
     "metadata": {},
     "output_type": "execute_result"
    },
    {
     "data": {
      "image/png": "[encoded data removed]",
      "text/plain": [
       "<Figure size 720x432 with 1 Axes>"
      ]
     },
     "metadata": {
      "needs_background": "light"
     },
     "output_type": "display_data"
    }
   ],
   "source": [
    "df['Complaint Type'].value_counts().plot(kind='barh',figsize=(10,6), title = 'Most common Complaints')"
   ]
  },
  {
   "cell_type": "code",
   "execution_count": 17,
   "id": "bdd1b752",
   "metadata": {},
   "outputs": [
    {
     "data": {
      "text/plain": [
       "<AxesSubplot:>"
      ]
     },
     "execution_count": 17,
     "metadata": {},
     "output_type": "execute_result"
    },
    {
     "data": {
      "image/png": "[encoded data removed]",
      "text/plain": [
       "<Figure size 432x288 with 1 Axes>"
      ]
     },
     "metadata": {
      "needs_background": "light"
     },
     "output_type": "display_data"
    }
   ],
   "source": [
    "df['Descriptor'].value_counts()[:10].plot(kind='barh')"
   ]
  },
  {
   "cell_type": "code",
   "execution_count": 20,
   "id": "b6a9908c",
   "metadata": {},
   "outputs": [
    {
     "data": {
      "text/html": [
       "<div>\n",
       "<style scoped>\n",
       "    .dataframe tbody tr th:only-of-type {\n",
       "        vertical-align: middle;\n",
       "    }\n",
       "\n",
       "    .dataframe tbody tr th {\n",
       "        vertical-align: top;\n",
       "    }\n",
       "\n",
       "    .dataframe thead th {\n",
       "        text-align: right;\n",
       "    }\n",
       "</style>\n",
       "<table border=\"1\" class=\"dataframe\">\n",
       "  <thead>\n",
       "    <tr style=\"text-align: right;\">\n",
       "      <th>Complaint Type</th>\n",
       "      <th>Blocked Driveway</th>\n",
       "      <th>Illegal Parking</th>\n",
       "      <th>Noise - Commercial</th>\n",
       "      <th>Noise - Street/Sidewalk</th>\n",
       "      <th>Derelict Vehicle</th>\n",
       "      <th>Animal Abuse</th>\n",
       "    </tr>\n",
       "    <tr>\n",
       "      <th>Borough</th>\n",
       "      <th></th>\n",
       "      <th></th>\n",
       "      <th></th>\n",
       "      <th></th>\n",
       "      <th></th>\n",
       "      <th></th>\n",
       "    </tr>\n",
       "  </thead>\n",
       "  <tbody>\n",
       "    <tr>\n",
       "      <th>BRONX</th>\n",
       "      <td>12755.0</td>\n",
       "      <td>7859.0</td>\n",
       "      <td>2434.0</td>\n",
       "      <td>8891.0</td>\n",
       "      <td>1953.0</td>\n",
       "      <td>1415.0</td>\n",
       "    </tr>\n",
       "    <tr>\n",
       "      <th>BROOKLYN</th>\n",
       "      <td>28148.0</td>\n",
       "      <td>27462.0</td>\n",
       "      <td>11463.0</td>\n",
       "      <td>13355.0</td>\n",
       "      <td>5181.0</td>\n",
       "      <td>2394.0</td>\n",
       "    </tr>\n",
       "    <tr>\n",
       "      <th>MANHATTAN</th>\n",
       "      <td>2073.0</td>\n",
       "      <td>12132.0</td>\n",
       "      <td>14560.0</td>\n",
       "      <td>20550.0</td>\n",
       "      <td>537.0</td>\n",
       "      <td>1525.0</td>\n",
       "    </tr>\n",
       "    <tr>\n",
       "      <th>QUEENS</th>\n",
       "      <td>31644.0</td>\n",
       "      <td>21982.0</td>\n",
       "      <td>6075.0</td>\n",
       "      <td>4407.0</td>\n",
       "      <td>8110.0</td>\n",
       "      <td>1876.0</td>\n",
       "    </tr>\n",
       "    <tr>\n",
       "      <th>STATEN ISLAND</th>\n",
       "      <td>2142.0</td>\n",
       "      <td>4886.0</td>\n",
       "      <td>679.0</td>\n",
       "      <td>820.0</td>\n",
       "      <td>1766.0</td>\n",
       "      <td>557.0</td>\n",
       "    </tr>\n",
       "    <tr>\n",
       "      <th>Unspecified</th>\n",
       "      <td>282.0</td>\n",
       "      <td>1040.0</td>\n",
       "      <td>366.0</td>\n",
       "      <td>589.0</td>\n",
       "      <td>171.0</td>\n",
       "      <td>11.0</td>\n",
       "    </tr>\n",
       "  </tbody>\n",
       "</table>\n",
       "</div>"
      ],
      "text/plain": [
       "Complaint Type  Blocked Driveway  Illegal Parking  Noise - Commercial  \\\n",
       "Borough                                                                 \n",
       "BRONX                    12755.0           7859.0              2434.0   \n",
       "BROOKLYN                 28148.0          27462.0             11463.0   \n",
       "MANHATTAN                 2073.0          12132.0             14560.0   \n",
       "QUEENS                   31644.0          21982.0              6075.0   \n",
       "STATEN ISLAND             2142.0           4886.0               679.0   \n",
       "Unspecified                282.0           1040.0               366.0   \n",
       "\n",
       "Complaint Type  Noise - Street/Sidewalk  Derelict Vehicle  Animal Abuse  \n",
       "Borough                                                                  \n",
       "BRONX                            8891.0            1953.0        1415.0  \n",
       "BROOKLYN                        13355.0            5181.0        2394.0  \n",
       "MANHATTAN                       20550.0             537.0        1525.0  \n",
       "QUEENS                           4407.0            8110.0        1876.0  \n",
       "STATEN ISLAND                     820.0            1766.0         557.0  \n",
       "Unspecified                       589.0             171.0          11.0  "
      ]
     },
     "execution_count": 20,
     "metadata": {},
     "output_type": "execute_result"
    }
   ],
   "source": [
    "top5_complaints = ['Blocked Driveway','Illegal Parking','Noise - Commercial','Noise - Street/Sidewalk','Derelict Vehicle','Animal Abuse']\n",
    "comp_borough = df.groupby(['Borough','Complaint Type']).size().unstack()\n",
    "comp_borough = comp_borough[top5_complaints]\n",
    "comp_borough"
   ]
  },
  {
   "cell_type": "code",
   "execution_count": 22,
   "id": "5401367c",
   "metadata": {},
   "outputs": [
    {
     "data": {
      "image/png": "[encoded data removed]",
      "text/plain": [
       "<Figure size 864x576 with 6 Axes>"
      ]
     },
     "metadata": {
      "needs_background": "light"
     },
     "output_type": "display_data"
    }
   ],
   "source": [
    "col_number = 2\n",
    "row_number = 3\n",
    "fig, axes = plt.subplots(row_number,col_number, figsize=(12,8))\n",
    "\n",
    "for i, (label,col) in enumerate(comp_borough.iteritems()):\n",
    "    ax = axes[int(i/col_number), i%col_number]\n",
    "    col = col.sort_values(ascending=True)[:15]\n",
    "    col.plot(kind='barh', ax=ax)\n",
    "    ax.set_title(label)\n",
    "    \n",
    "plt.tight_layout()"
   ]
  },
  {
   "cell_type": "markdown",
   "id": "625a22a2",
   "metadata": {},
   "source": [
    "#Clearly Manhattan is making most of the noise, followed by Brooklyn.\n",
    "Brooklyn has the most number of 'Illegal parking' complaints and is also on the top for 'Animal Abuse'. (Savages!)\n",
    "Queens has highest complaints for 'Blocked Driveway' as well as for 'Derelict Vehicle'."
   ]
  },
  {
   "cell_type": "code",
   "execution_count": 24,
   "id": "a27ceaa9",
   "metadata": {},
   "outputs": [
    {
     "data": {
      "image/png": "[encoded data removed]",
      "text/plain": [
       "<Figure size 864x864 with 6 Axes>"
      ]
     },
     "metadata": {
      "needs_background": "light"
     },
     "output_type": "display_data"
    }
   ],
   "source": [
    "borough_comp = df.groupby(['Complaint Type','Borough']).size().unstack()\n",
    "\n",
    "col_number = 2\n",
    "row_number = 3\n",
    "fig, axes = plt.subplots(row_number,col_number, figsize=(12,12))\n",
    "\n",
    "for i, (label,col) in enumerate(borough_comp.iteritems()):\n",
    "    ax = axes[int(i/col_number), i%col_number]\n",
    "    col = col.sort_values(ascending=True)[:15]\n",
    "    col.plot(kind='barh', ax=ax)\n",
    "    ax.set_title(label)\n",
    "    \n",
    "plt.tight_layout()"
   ]
  },
  {
   "cell_type": "markdown",
   "id": "226a6ce9",
   "metadata": {},
   "source": [
    "###Apart from Manhattan, number of Complaints for 'Blocked Driveway' and 'Illegal Parking' is highest for each Borough.\n"
   ]
  },
  {
   "cell_type": "markdown",
   "id": "5e957943",
   "metadata": {},
   "source": [
    "###Manhattan has highest number of Noise complaints. Fortunaltely, parking in Manhattan is better than other Boroughs."
   ]
  },
  {
   "cell_type": "markdown",
   "id": "4b0ce89c",
   "metadata": {},
   "source": [
    "#  Areas Most Affected by the Top Complaint Type¶"
   ]
  },
  {
   "cell_type": "code",
   "execution_count": 27,
   "id": "625767ab",
   "metadata": {},
   "outputs": [
    {
     "data": {
      "text/plain": [
       "<AxesSubplot:>"
      ]
     },
     "execution_count": 27,
     "metadata": {},
     "output_type": "execute_result"
    },
    {
     "data": {
      "image/png": "[encoded data removed]",
      "text/plain": [
       "<Figure size 432x288 with 1 Axes>"
      ]
     },
     "metadata": {
      "needs_background": "light"
     },
     "output_type": "display_data"
    }
   ],
   "source": [
    "df['Borough'].value_counts().plot(kind ='bar')"
   ]
  },
  {
   "cell_type": "raw",
   "id": "9a0e225c",
   "metadata": {},
   "source": [
    "Borough wise, Brooklyn has the most number of Complaints followed by Queens and Manhattan.\n",
    "\n",
    "Lets plot a treemap of top 10 cities for highest number of complaints."
   ]
  },
  {
   "cell_type": "code",
   "execution_count": 28,
   "id": "0fc3317b",
   "metadata": {},
   "outputs": [
    {
     "data": {
      "text/html": [
       "<div>\n",
       "<style scoped>\n",
       "    .dataframe tbody tr th:only-of-type {\n",
       "        vertical-align: middle;\n",
       "    }\n",
       "\n",
       "    .dataframe tbody tr th {\n",
       "        vertical-align: top;\n",
       "    }\n",
       "\n",
       "    .dataframe thead th {\n",
       "        text-align: right;\n",
       "    }\n",
       "</style>\n",
       "<table border=\"1\" class=\"dataframe\">\n",
       "  <thead>\n",
       "    <tr style=\"text-align: right;\">\n",
       "      <th></th>\n",
       "      <th>Borough</th>\n",
       "      <th>Incident Zip</th>\n",
       "      <th>Incident Address</th>\n",
       "      <th>Longitude</th>\n",
       "      <th>Latitude</th>\n",
       "      <th>Complaint Type</th>\n",
       "    </tr>\n",
       "  </thead>\n",
       "  <tbody>\n",
       "    <tr>\n",
       "      <th>1</th>\n",
       "      <td>QUEENS</td>\n",
       "      <td>11105.0</td>\n",
       "      <td>27-07 23 AVENUE</td>\n",
       "      <td>-73.915094</td>\n",
       "      <td>40.775945</td>\n",
       "      <td>Blocked Driveway</td>\n",
       "    </tr>\n",
       "    <tr>\n",
       "      <th>2</th>\n",
       "      <td>BRONX</td>\n",
       "      <td>10458.0</td>\n",
       "      <td>2897 VALENTINE AVENUE</td>\n",
       "      <td>-73.888525</td>\n",
       "      <td>40.870325</td>\n",
       "      <td>Blocked Driveway</td>\n",
       "    </tr>\n",
       "    <tr>\n",
       "      <th>7</th>\n",
       "      <td>BRONX</td>\n",
       "      <td>10457.0</td>\n",
       "      <td>501 EAST 171 STREET</td>\n",
       "      <td>-73.902905</td>\n",
       "      <td>40.837503</td>\n",
       "      <td>Blocked Driveway</td>\n",
       "    </tr>\n",
       "    <tr>\n",
       "      <th>9</th>\n",
       "      <td>BROOKLYN</td>\n",
       "      <td>11219.0</td>\n",
       "      <td>1408 66 STREET</td>\n",
       "      <td>-73.999539</td>\n",
       "      <td>40.623793</td>\n",
       "      <td>Blocked Driveway</td>\n",
       "    </tr>\n",
       "    <tr>\n",
       "      <th>10</th>\n",
       "      <td>QUEENS</td>\n",
       "      <td>11372.0</td>\n",
       "      <td>34-06 73 STREET</td>\n",
       "      <td>-73.893363</td>\n",
       "      <td>40.752600</td>\n",
       "      <td>Blocked Driveway</td>\n",
       "    </tr>\n",
       "    <tr>\n",
       "      <th>11</th>\n",
       "      <td>BRONX</td>\n",
       "      <td>10453.0</td>\n",
       "      <td>1770 UNDERCLIFF AVENUE</td>\n",
       "      <td>-73.919997</td>\n",
       "      <td>40.851555</td>\n",
       "      <td>Blocked Driveway</td>\n",
       "    </tr>\n",
       "    <tr>\n",
       "      <th>15</th>\n",
       "      <td>QUEENS</td>\n",
       "      <td>11374.0</td>\n",
       "      <td>61-34 AUSTIN STREET</td>\n",
       "      <td>-73.870417</td>\n",
       "      <td>40.729679</td>\n",
       "      <td>Blocked Driveway</td>\n",
       "    </tr>\n",
       "    <tr>\n",
       "      <th>16</th>\n",
       "      <td>QUEENS</td>\n",
       "      <td>11412.0</td>\n",
       "      <td>192-05 LINDEN BOULEVARD</td>\n",
       "      <td>-73.759264</td>\n",
       "      <td>40.692520</td>\n",
       "      <td>Blocked Driveway</td>\n",
       "    </tr>\n",
       "    <tr>\n",
       "      <th>24</th>\n",
       "      <td>BRONX</td>\n",
       "      <td>10467.0</td>\n",
       "      <td>3025 WALLACE AVENUE</td>\n",
       "      <td>-73.864322</td>\n",
       "      <td>40.870063</td>\n",
       "      <td>Blocked Driveway</td>\n",
       "    </tr>\n",
       "    <tr>\n",
       "      <th>25</th>\n",
       "      <td>QUEENS</td>\n",
       "      <td>11432.0</td>\n",
       "      <td>175-18 90 AVENUE</td>\n",
       "      <td>-73.786257</td>\n",
       "      <td>40.709827</td>\n",
       "      <td>Blocked Driveway</td>\n",
       "    </tr>\n",
       "  </tbody>\n",
       "</table>\n",
       "</div>"
      ],
      "text/plain": [
       "     Borough  Incident Zip         Incident Address  Longitude   Latitude  \\\n",
       "1     QUEENS       11105.0          27-07 23 AVENUE -73.915094  40.775945   \n",
       "2      BRONX       10458.0    2897 VALENTINE AVENUE -73.888525  40.870325   \n",
       "7      BRONX       10457.0      501 EAST 171 STREET -73.902905  40.837503   \n",
       "9   BROOKLYN       11219.0           1408 66 STREET -73.999539  40.623793   \n",
       "10    QUEENS       11372.0          34-06 73 STREET -73.893363  40.752600   \n",
       "11     BRONX       10453.0   1770 UNDERCLIFF AVENUE -73.919997  40.851555   \n",
       "15    QUEENS       11374.0      61-34 AUSTIN STREET -73.870417  40.729679   \n",
       "16    QUEENS       11412.0  192-05 LINDEN BOULEVARD -73.759264  40.692520   \n",
       "24     BRONX       10467.0      3025 WALLACE AVENUE -73.864322  40.870063   \n",
       "25    QUEENS       11432.0         175-18 90 AVENUE -73.786257  40.709827   \n",
       "\n",
       "      Complaint Type  \n",
       "1   Blocked Driveway  \n",
       "2   Blocked Driveway  \n",
       "7   Blocked Driveway  \n",
       "9   Blocked Driveway  \n",
       "10  Blocked Driveway  \n",
       "11  Blocked Driveway  \n",
       "15  Blocked Driveway  \n",
       "16  Blocked Driveway  \n",
       "24  Blocked Driveway  \n",
       "25  Blocked Driveway  "
      ]
     },
     "execution_count": 28,
     "metadata": {},
     "output_type": "execute_result"
    }
   ],
   "source": [
    "df_tc = df[[ 'Borough','Incident Zip', 'Incident Address', 'Longitude', 'Latitude', 'Complaint Type']]\n",
    "df_tc = df_tc[df_tc['Complaint Type'] == 'Blocked Driveway']\n",
    "\n",
    "\n",
    "\n",
    "df_tc.head(10)"
   ]
  },
  {
   "cell_type": "code",
   "execution_count": 29,
   "id": "0af59186",
   "metadata": {},
   "outputs": [
    {
     "name": "stdout",
     "output_type": "stream",
     "text": [
      "Missing values: \n"
     ]
    },
    {
     "data": {
      "text/html": [
       "<div>\n",
       "<style scoped>\n",
       "    .dataframe tbody tr th:only-of-type {\n",
       "        vertical-align: middle;\n",
       "    }\n",
       "\n",
       "    .dataframe tbody tr th {\n",
       "        vertical-align: top;\n",
       "    }\n",
       "\n",
       "    .dataframe thead th {\n",
       "        text-align: right;\n",
       "    }\n",
       "</style>\n",
       "<table border=\"1\" class=\"dataframe\">\n",
       "  <thead>\n",
       "    <tr style=\"text-align: right;\">\n",
       "      <th></th>\n",
       "      <th>Counts</th>\n",
       "      <th>%</th>\n",
       "    </tr>\n",
       "  </thead>\n",
       "  <tbody>\n",
       "    <tr>\n",
       "      <th>Incident Address</th>\n",
       "      <td>1310</td>\n",
       "      <td>1.700327</td>\n",
       "    </tr>\n",
       "    <tr>\n",
       "      <th>Longitude</th>\n",
       "      <td>321</td>\n",
       "      <td>0.416645</td>\n",
       "    </tr>\n",
       "    <tr>\n",
       "      <th>Latitude</th>\n",
       "      <td>321</td>\n",
       "      <td>0.416645</td>\n",
       "    </tr>\n",
       "    <tr>\n",
       "      <th>Incident Zip</th>\n",
       "      <td>283</td>\n",
       "      <td>0.367323</td>\n",
       "    </tr>\n",
       "    <tr>\n",
       "      <th>Borough</th>\n",
       "      <td>0</td>\n",
       "      <td>0.000000</td>\n",
       "    </tr>\n",
       "  </tbody>\n",
       "</table>\n",
       "</div>"
      ],
      "text/plain": [
       "                  Counts         %\n",
       "Incident Address    1310  1.700327\n",
       "Longitude            321  0.416645\n",
       "Latitude             321  0.416645\n",
       "Incident Zip         283  0.367323\n",
       "Borough                0  0.000000"
      ]
     },
     "execution_count": 29,
     "metadata": {},
     "output_type": "execute_result"
    }
   ],
   "source": [
    "missing_counts = df_tc.isnull().sum().sort_values(ascending = False)\n",
    "percent = (df_tc.isnull().sum()*100/df_tc.shape[0]).sort_values(ascending = False)\n",
    "missing_df = pd.concat([missing_counts, percent], axis = 1, keys = ['Counts', '%'])\n",
    "print('Missing values: ')\n",
    "missing_df.head()"
   ]
  },
  {
   "cell_type": "code",
   "execution_count": 30,
   "id": "aea85ea1",
   "metadata": {},
   "outputs": [
    {
     "data": {
      "text/plain": [
       "<AxesSubplot:>"
      ]
     },
     "execution_count": 30,
     "metadata": {},
     "output_type": "execute_result"
    },
    {
     "data": {
      "image/png": "[encoded data removed]",
      "text/plain": [
       "<Figure size 432x288 with 1 Axes>"
      ]
     },
     "metadata": {
      "needs_background": "light"
     },
     "output_type": "display_data"
    }
   ],
   "source": [
    "sns.heatmap(df_tc.isnull(), cbar=False)"
   ]
  },
  {
   "cell_type": "code",
   "execution_count": 31,
   "id": "c87414ed",
   "metadata": {},
   "outputs": [
    {
     "data": {
      "text/plain": [
       "QUEENS           31644\n",
       "BROOKLYN         28148\n",
       "BRONX            12755\n",
       "STATEN ISLAND     2142\n",
       "MANHATTAN         2073\n",
       "Name: Borough, dtype: int64"
      ]
     },
     "execution_count": 31,
     "metadata": {},
     "output_type": "execute_result"
    }
   ],
   "source": [
    "df_tc['Borough'].value_counts()\n",
    "df_tc = df_tc[df_tc['Borough'] != 'Unspecified']\n",
    "df_tc['Borough'].value_counts()"
   ]
  },
  {
   "cell_type": "code",
   "execution_count": 32,
   "id": "d76096b6",
   "metadata": {},
   "outputs": [
    {
     "data": {
      "text/plain": [
       "Text(0.5, 0, 'Number of Complaints')"
      ]
     },
     "execution_count": 32,
     "metadata": {},
     "output_type": "execute_result"
    },
    {
     "data": {
      "image/png": "[encoded data removed]",
      "text/plain": [
       "<Figure size 576x360 with 1 Axes>"
      ]
     },
     "metadata": {
      "needs_background": "light"
     },
     "output_type": "display_data"
    }
   ],
   "source": [
    "colors = ['Grey', 'Grey', 'Grey', 'Firebrick', 'Firebrick']\n",
    "ny_borough = df_tc['Borough'].value_counts().sort_values()\n",
    "\n",
    "ny_borough.plot(kind = 'bar', figsize = (8,5), fontsize = 10, color = colors)\n",
    "plt.ylabel('Borough', fontsize = 10)\n",
    "plt.xlabel('Number of Complaints', fontsize = 10)\n"
   ]
  },
  {
   "cell_type": "code",
   "execution_count": 33,
   "id": "517de902",
   "metadata": {},
   "outputs": [
    {
     "data": {
      "text/plain": [
       "Text(0.5, 0, 'Number of Complaints')"
      ]
     },
     "execution_count": 33,
     "metadata": {},
     "output_type": "execute_result"
    },
    {
     "data": {
      "image/png": "[encoded data removed]",
      "text/plain": [
       "<Figure size 576x360 with 1 Axes>"
      ]
     },
     "metadata": {
      "needs_background": "light"
     },
     "output_type": "display_data"
    }
   ],
   "source": [
    "ny_zip = df_tc['Incident Zip'].value_counts().head(5).sort_values()\n",
    "ny_zip.index = ny_zip.index.map(str)\n",
    "color = sns.color_palette('Reds', len(ny_zip))\n",
    "\n",
    "ny_zip.plot(kind = 'bar', figsize = (8, 5), fontsize = 11, color = color)\n",
    "plt.ylabel('Zip code', fontsize = 14)\n",
    "plt.xlabel('Number of Complaints', fontsize = 14)\n"
   ]
  },
  {
   "cell_type": "code",
   "execution_count": 34,
   "id": "25c67e18",
   "metadata": {},
   "outputs": [
    {
     "name": "stdout",
     "output_type": "stream",
     "text": [
      "11368 Zip code belongs to:  QUEENS\n"
     ]
    }
   ],
   "source": [
    "print('11368 Zip code belongs to: ', df[df['Incident Zip'] == 11368.0].head().iloc[0]['Borough'])"
   ]
  },
  {
   "cell_type": "code",
   "execution_count": 35,
   "id": "058e0513",
   "metadata": {},
   "outputs": [
    {
     "data": {
      "text/plain": [
       "Text(0.5, 0, 'Number of Complaints')"
      ]
     },
     "execution_count": 35,
     "metadata": {},
     "output_type": "execute_result"
    },
    {
     "data": {
      "image/png": "[encoded data removed]",
      "text/plain": [
       "<Figure size 576x360 with 1 Axes>"
      ]
     },
     "metadata": {
      "needs_background": "light"
     },
     "output_type": "display_data"
    }
   ],
   "source": [
    "ny_add = df_tc['Incident Address'].value_counts().head(5).sort_values()\n",
    "ny_add.index = ny_add.index.map(str)\n",
    "color = sns.color_palette('Reds', len(ny_add))\n",
    "\n",
    "ny_zip.plot(kind = 'bar', figsize = (8, 5), fontsize = 11, color = color)\n",
    "plt.ylabel('Incident Address', fontsize = 14)\n",
    "plt.xlabel('Number of Complaints', fontsize = 14)\n",
    "\n"
   ]
  },
  {
   "cell_type": "code",
   "execution_count": 36,
   "id": "f4e50fc2",
   "metadata": {},
   "outputs": [
    {
     "name": "stdout",
     "output_type": "stream",
     "text": [
      "11368 Zip code belongs to:  53-19 103 STREET\n"
     ]
    }
   ],
   "source": [
    "print('11368 Zip code belongs to: ', df[df['Incident Zip'] == 11368.0].head().iloc[0]['Incident Address'])"
   ]
  },
  {
   "cell_type": "markdown",
   "id": "bb6a6c52",
   "metadata": {},
   "source": [
    "# From the above analysis of the '' complaint Blocked Driveway, we can conclude that the Department of Housing Preservation and Development of New York City should focus on:\n",
    "\n",
    "Queens and Brooklyn, since they are the first and second most affected boroughs in NYC, respectively,\n",
    "Houses in Queens with 11368 as their Zip code, and\n",
    "53-19 103 STREET, a severely affected street in the Queens."
   ]
  },
  {
   "cell_type": "code",
   "execution_count": null,
   "id": "e2461224",
   "metadata": {},
   "outputs": [],
   "source": []
  }
 ],
 "metadata": {
  "kernelspec": {
   "display_name": "Python 3",
   "language": "python",
   "name": "python3"
  },
  "language_info": {
   "codemirror_mode": {
    "name": "ipython",
    "version": 3
   },
   "file_extension": ".py",
   "mimetype": "text/x-python",
   "name": "python",
   "nbconvert_exporter": "python",
   "pygments_lexer": "ipython3",
   "version": "3.8.8"
  }
 },
 "nbformat": 4,
 "nbformat_minor": 5
}
